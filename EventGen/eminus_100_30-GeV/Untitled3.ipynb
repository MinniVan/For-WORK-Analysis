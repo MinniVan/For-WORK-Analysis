{
 "cells": [
  {
   "cell_type": "code",
   "execution_count": 4,
   "id": "00804d75-450e-46bb-ad5a-3692b2530c56",
   "metadata": {},
   "outputs": [],
   "source": [
    "%matplotlib widget\n",
    "import numpy as np\n",
    "import matplotlib.pyplot as plt\n",
    "import csv\n",
    "\n",
    "\n",
    "from mpl_toolkits.mplot3d import axes3d "
   ]
  },
  {
   "cell_type": "code",
   "execution_count": 6,
   "id": "4cfbff44-d9ee-4331-82a7-32128516fb19",
   "metadata": {},
   "outputs": [],
   "source": [
    "directions_truth = []\n",
    "with open('directions_truth.txt', 'r', newline='') as f:\n",
    "    for line in f:\n",
    "        sl = line.split(',')\n",
    "        arr = np.array([float(sl[0]), float(sl[1]), float(sl[2])])\n",
    "        directions_truth.append(arr)\n",
    "directions_truth_norm = directions_truth / np.linalg.norm(directions_truth)\n",
    "        \n",
    "\n",
    "directions_reco = []\n",
    "with open('directions_reco.txt', 'r', newline='') as f:\n",
    "    for line in f:\n",
    "        sl_reco = line.split(',')\n",
    "        arr_reco = np.array([float(sl_reco[0]), float(sl_reco[1]), float(sl_reco[2])])\n",
    "        directions_reco.append(arr_reco)\n",
    "directions_reco_norm = directions_reco / np.linalg.norm(directions_reco)"
   ]
  },
  {
   "cell_type": "code",
   "execution_count": 21,
   "id": "5c7ef580-55d4-4ecb-9c1d-27ebd7f0e77f",
   "metadata": {},
   "outputs": [
    {
     "name": "stdout",
     "output_type": "stream",
     "text": [
      "0.9999998007569801\n",
      "1.0000002124112823\n",
      "1.0000005220588637\n",
      "0.9999995872556598\n",
      "1.0000002023804795\n",
      "0.9999998551379895\n",
      "1.00000014067749\n",
      "1.0000000263089996\n",
      "0.9999996235239291\n",
      "0.9999995052388777\n",
      "0.9999996762669476\n",
      "1.0000000144205\n",
      "0.9999996467429375\n",
      "1.0000000943729954\n",
      "1.0000004756970717\n",
      "1.0000004087649164\n",
      "1.0000000954844954\n",
      "0.9999997156624596\n",
      "1.000000268624244\n",
      "1.0000004564683957\n",
      "0.9999995645014053\n",
      "1.0000006239036503\n",
      "0.9999999359524979\n",
      "1.0000003096579522\n",
      "0.9999999655584993\n",
      "1.0000003295029458\n",
      "0.9999999313604976\n",
      "1.000000272346463\n",
      "1.0000003592669353\n",
      "0.9999997667654729\n",
      "0.9999998016709803\n",
      "1.0000003107586266\n",
      "0.9999999423884983\n",
      "1.00000034639244\n",
      "0.9999999550844989\n",
      "0.99999965357444\n",
      "1.0000001073694942\n",
      "1.0000003105489519\n",
      "1.0000001570064876\n",
      "1.0000003536344375\n",
      "0.9999997566041504\n",
      "1.0000005456080525\n",
      "0.9999995736734091\n",
      "0.9999999915855\n",
      "0.9999999040669955\n",
      "0.9999996090449236\n",
      "0.9999996151477709\n",
      "1.0000001928604814\n",
      "0.999999528642889\n",
      "0.9999996233859291\n",
      "0.9999996435744365\n",
      "1.0000001120373987\n",
      "0.9999998302195656\n",
      "0.9999998302195656\n",
      "1.0000002733549627\n",
      "0.9999999786004996\n",
      "0.9999999786004996\n",
      "0.9999999328204978\n",
      "1.0000000142405\n",
      "0.9999999721669998\n",
      "1.0000003580084358\n",
      "0.9999996585636867\n",
      "0.9999998788244927\n",
      "0.9999996272384305\n",
      "0.9999996759829476\n",
      "1.0000001388507354\n",
      "0.9999994867265882\n",
      "1.0000003900527439\n",
      "0.9999999626951813\n",
      "1.0000003425440465\n",
      "0.9999998753554722\n",
      "0.9999999780944998\n",
      "1.0000002952504565\n",
      "1.0000000962484954\n",
      "1.0000000351724994\n",
      "0.9999998445389949\n",
      "0.9999996616409439\n",
      "1.000000460887214\n",
      "1.0000000992334952\n",
      "0.9999999243974972\n",
      "0.9999995566544017\n",
      "1.0000000550689985\n",
      "1.0000000550689985\n",
      "1.0000003592264555\n",
      "1.0000003375349429\n",
      "0.999999274780237\n",
      "1.0000000250244998\n",
      "1.00000048974886\n",
      "0.9999999750894998\n",
      "1.0000003478279396\n",
      "0.9999995610359036\n",
      "1.0000003510300635\n",
      "1.0000001040574946\n",
      "0.9999997759769749\n",
      "1.0000000255774997\n",
      "0.9999999691574996\n",
      "0.9999995370308928\n",
      "1.0000002520824682\n",
      "0.9999998416849875\n",
      "0.999999753803251\n"
     ]
    }
   ],
   "source": [
    "for i in directions_reco:\n",
    "    print(np.sqrt(sum(i**2)))"
   ]
  },
  {
   "cell_type": "code",
   "execution_count": 17,
   "id": "2481fc2d-d443-4fb3-846e-f17a62ad2693",
   "metadata": {},
   "outputs": [
    {
     "data": {
      "text/plain": [
       "0.09999999398410545"
      ]
     },
     "execution_count": 17,
     "metadata": {},
     "output_type": "execute_result"
    }
   ],
   "source": [
    "np.sqrt(sum(directions_truth_norm[0]**2))"
   ]
  },
  {
   "cell_type": "code",
   "execution_count": null,
   "id": "cb035ec2-c28b-4c97-9a27-2435d8a450c9",
   "metadata": {},
   "outputs": [],
   "source": []
  }
 ],
 "metadata": {
  "kernelspec": {
   "display_name": "Python 3",
   "language": "python",
   "name": "python3"
  },
  "language_info": {
   "codemirror_mode": {
    "name": "ipython",
    "version": 3
   },
   "file_extension": ".py",
   "mimetype": "text/x-python",
   "name": "python",
   "nbconvert_exporter": "python",
   "pygments_lexer": "ipython3",
   "version": "3.8.8"
  }
 },
 "nbformat": 4,
 "nbformat_minor": 5
}
